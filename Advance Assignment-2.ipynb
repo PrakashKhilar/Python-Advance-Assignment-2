{
 "cells": [
  {
   "cell_type": "markdown",
   "id": "7f2cc7ee",
   "metadata": {},
   "source": [
    "# # Advance Assignment-2"
   ]
  },
  {
   "cell_type": "code",
   "execution_count": 1,
   "id": "08017f14",
   "metadata": {},
   "outputs": [],
   "source": [
    "# Q1 : What is the relationship between classes and modules?"
   ]
  },
  {
   "cell_type": "code",
   "execution_count": null,
   "id": "6eb518a4",
   "metadata": {},
   "outputs": [],
   "source": [
    "# Ans;\n",
    "A Python class is like an outline/blueprint/mold for creating a new object. \n",
    "An object is anything that we wish to manipulate or change while working through the code. \n",
    "Every time a class object is instantiated, which is when we declare a variable, a new object is initiated from scratch.\n",
    "\n",
    "Whereas in Python, Modules are simply files with the . py extension containing Python code that can be imported inside another Python Program.\n",
    "In simple terms, we can consider a module to be the same as a code library or a file that contains a set of functions/Classes that we want to include in your application."
   ]
  },
  {
   "cell_type": "code",
   "execution_count": 2,
   "id": "b8c6761e",
   "metadata": {},
   "outputs": [],
   "source": [
    "# Q2 : How do you make instances and classes?"
   ]
  },
  {
   "cell_type": "code",
   "execution_count": null,
   "id": "5c4a5289",
   "metadata": {},
   "outputs": [],
   "source": [
    "# Ans;\n",
    "Ans: For creating a class instance. we call a class by its name and pass the arguments which its __init__ method accepts.\n",
    "\n",
    "#Example: \n",
    "Prakash = employee('Male',20000), Here Prakash is an instance of class employee with attriubutes 'Male' and 20000.\n",
    "\n",
    "Whereas for creating a class, we use the Class keyword. Class keyword is followed by classname and semicolon.\n",
    "\n",
    "#Example: \n",
    "Here Employee is a class created with class keyword with arguments gender and salary.\n",
    "\n",
    "class Employee: def __init__(self, gender,salary): self.gender = gender self.salary = salary"
   ]
  },
  {
   "cell_type": "code",
   "execution_count": 3,
   "id": "c5710cc3",
   "metadata": {},
   "outputs": [],
   "source": [
    "# Q3 : Where and how should be class attributes created?"
   ]
  },
  {
   "cell_type": "code",
   "execution_count": null,
   "id": "617f945b",
   "metadata": {},
   "outputs": [],
   "source": [
    "# Ans;\n",
    "Class attributes or Class level Attributes belong to the class itself. \n",
    "These attributes will be shared by all the instances of the class. \n",
    "Hence these attributes are usually created/defined in the top of class definiation outside all methods.\n",
    "\n",
    "#Example: \n",
    "In the below code we are defining a class attribute called no_of_wheels which will be shared by all the instances of the class Car\n",
    "\n",
    "class Car: no_of_wheels = 4; # this is a class attribute def __init__(self,color,price,engine): self.color = color # All this are instance attributes self.price = price self.engine = engine"
   ]
  },
  {
   "cell_type": "code",
   "execution_count": 4,
   "id": "0071cdb2",
   "metadata": {},
   "outputs": [],
   "source": [
    "# Q4 : Where and how are instance attributes created?"
   ]
  },
  {
   "cell_type": "code",
   "execution_count": null,
   "id": "c3153893",
   "metadata": {},
   "outputs": [],
   "source": [
    "# Ans;\n",
    "\n",
    "Instances attributes are passed to the class when an object of the class is created. Unlike class attributes, instance attributes are not shared by all objects of the classs. Instead each object maintains its own copy of instance attributes at object level whereas incase of class attributes, all instances of class refer to a single copy. Usually instance attributes are defined within the __init__ method of class.\n",
    "\n",
    "#Example:\n",
    "In the below sample code we are creating a class Car with instance varaibles color, price, engine, which will be provided when an instance of class Car is created.\n",
    "\n",
    "class Car: def __init__(self,color,price,engine): self.color = color # All this are instance attributes self.price = price self.engine = engine\n",
    "\n",
    "nexon_ev = Car('Indigo Blue', 1400000, 'electric')\n",
    "safari = Car('Pearl White',2100000, 'petrol')\n",
    "\n",
    "nexon_ev, safari are both the instances of class Car with different instance variables."
   ]
  },
  {
   "cell_type": "code",
   "execution_count": 5,
   "id": "68ebd224",
   "metadata": {},
   "outputs": [],
   "source": [
    "# Q5 : What does the term \"self\" in a Python class mean?\n"
   ]
  },
  {
   "cell_type": "code",
   "execution_count": null,
   "id": "f0c8f558",
   "metadata": {},
   "outputs": [],
   "source": [
    "# Ans;\n",
    "self represents the instance of the class (it represents the object itself).\n",
    "By using the “self” keyword we can access the attributes and methods of the class with in the class in python. \n",
    "It binds the attributes with the given arguments."
   ]
  },
  {
   "cell_type": "code",
   "execution_count": 6,
   "id": "75cf9ae1",
   "metadata": {},
   "outputs": [
    {
     "name": "stdout",
     "output_type": "stream",
     "text": [
      "{'color': 'Indigo Blue', 'price': 1400000, 'engine': 'electric'}\n",
      "{'color': 'Pearl White', 'price': 2100000, 'engine': 'petrol'}\n"
     ]
    }
   ],
   "source": [
    "class Car:\n",
    "    def __init__(self,color,price,engine):\n",
    "        self.color = color # All this are instance attributes\n",
    "        self.price = price\n",
    "        self.engine = engine\n",
    "\n",
    "nexon_ev = Car('Indigo Blue', 1400000, 'electric')\n",
    "safari = Car('Pearl White',2100000, 'petrol')\n",
    "\n",
    "print(nexon_ev.__dict__)\n",
    "print(safari.__dict__)"
   ]
  },
  {
   "cell_type": "code",
   "execution_count": 7,
   "id": "0f60f4bd",
   "metadata": {},
   "outputs": [],
   "source": [
    "# Q6 : How does a Python class handle operator overloading?"
   ]
  },
  {
   "cell_type": "code",
   "execution_count": null,
   "id": "c83e529d",
   "metadata": {},
   "outputs": [],
   "source": [
    "# Ans;\n",
    "Python Classes handle operator overloading by using special methods called Magic methods. These special methods usually begin and end with __ (double underscore)\n",
    "\n",
    "#Example:\n",
    "Magic methods for basic arithmetic operators are:\n",
    "\n",
    "+ -> __add__()\n",
    "- -> __sub__()\n",
    "* -> __mul__()\n",
    "/ -> __div__()"
   ]
  },
  {
   "cell_type": "code",
   "execution_count": 8,
   "id": "fba44583",
   "metadata": {},
   "outputs": [
    {
     "name": "stdout",
     "output_type": "stream",
     "text": [
      "The total number of pages in 2 books is 1200\n"
     ]
    }
   ],
   "source": [
    "class Book:\n",
    "    def __init__(self,pages):\n",
    "        self.pages = pages\n",
    "    def __add__(self,other):\n",
    "        return self.pages + other.pages\n",
    "b1 = Book(500)\n",
    "b2 = Book(700)\n",
    "print(f'The total number of pages in 2 books is {b1+b2}')"
   ]
  },
  {
   "cell_type": "code",
   "execution_count": 9,
   "id": "b8d07ed8",
   "metadata": {},
   "outputs": [],
   "source": [
    "# Q7. When do you consider allowing operator overloading of your classes?"
   ]
  },
  {
   "cell_type": "code",
   "execution_count": null,
   "id": "31f9af8c",
   "metadata": {},
   "outputs": [],
   "source": [
    "# Ans;\n",
    "We consider allowing operator overloading when we want to have different meaning for the same operator.\n",
    "# For example \n",
    "operator + is used to add two integers as well as join two strings and merge two lists. \n",
    "It is achievable because ‘+’ operator is overloaded by int class and str class."
   ]
  },
  {
   "cell_type": "code",
   "execution_count": 11,
   "id": "3ce295ce",
   "metadata": {},
   "outputs": [
    {
     "name": "stdout",
     "output_type": "stream",
     "text": [
      "3\n",
      "PrakashKhilar\n",
      "12\n",
      "SudhanshuSudhanshuSudhanshuSudhanshu\n"
     ]
    }
   ],
   "source": [
    "# Ans;\n",
    "# Python program to show use of\n",
    "# + operator for different purposes.\n",
    " \n",
    "print(1 + 2)\n",
    " \n",
    "# concatenate two strings\n",
    "print(\"Prakash\"+\"Khilar\")\n",
    " \n",
    "# Product two numbers\n",
    "print(3 * 4)\n",
    " \n",
    "# Repeat the String\n",
    "print(\"Sudhanshu\"*4)"
   ]
  },
  {
   "cell_type": "code",
   "execution_count": 12,
   "id": "6585045e",
   "metadata": {},
   "outputs": [],
   "source": [
    "# Q8. What is the most popular form of operator overloading?"
   ]
  },
  {
   "cell_type": "code",
   "execution_count": null,
   "id": "b04dbde1",
   "metadata": {},
   "outputs": [],
   "source": [
    "# Ans;\n",
    "The most popular form of operator overloading in python is by special methods called Magic methods. \n",
    "It usually begins and ends with double underscore ____."
   ]
  },
  {
   "cell_type": "code",
   "execution_count": 13,
   "id": "c379970b",
   "metadata": {},
   "outputs": [
    {
     "name": "stdout",
     "output_type": "stream",
     "text": [
      "Sum -> 3\n",
      "String Concatenation -> Gaurav Ratan\n"
     ]
    }
   ],
   "source": [
    "class A:\n",
    "    def __init__(self,a):\n",
    "        self.a = a\n",
    "    def __add__(self,o):\n",
    "        return self.a+o.a\n",
    "obj1 = A(1)\n",
    "obj2 = A(2)\n",
    "obj3 = A('Gaurav')\n",
    "obj4 = A(' Ratan')\n",
    "print(f'Sum -> {obj1+obj2}')\n",
    "print(f'String Concatenation -> {obj3+obj4}')"
   ]
  },
  {
   "cell_type": "code",
   "execution_count": 14,
   "id": "ee1ac9cf",
   "metadata": {},
   "outputs": [],
   "source": [
    "# Q9. What are the two most important concepts to grasp in order to comprehend Python OOP code?"
   ]
  },
  {
   "cell_type": "code",
   "execution_count": null,
   "id": "841377d4",
   "metadata": {},
   "outputs": [],
   "source": [
    "# Ans;\n",
    "Classes and objects are the two most important concepts to grasp in order to comprehend python OOP code as more formally objects are entities that represent instances of general abstract concept called class.\n",
    "\n",
    "Along with classes and objects the important concepts to grasp are:\n",
    "\n",
    "Inheritence\n",
    "Abstraction\n",
    "Polymorphism\n",
    "Encapsulation\n"
   ]
  },
  {
   "cell_type": "code",
   "execution_count": null,
   "id": "fa80085f",
   "metadata": {},
   "outputs": [],
   "source": []
  }
 ],
 "metadata": {
  "kernelspec": {
   "display_name": "Python 3 (ipykernel)",
   "language": "python",
   "name": "python3"
  },
  "language_info": {
   "codemirror_mode": {
    "name": "ipython",
    "version": 3
   },
   "file_extension": ".py",
   "mimetype": "text/x-python",
   "name": "python",
   "nbconvert_exporter": "python",
   "pygments_lexer": "ipython3",
   "version": "3.9.12"
  }
 },
 "nbformat": 4,
 "nbformat_minor": 5
}
